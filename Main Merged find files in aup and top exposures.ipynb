{
 "cells": [
  {
   "cell_type": "code",
   "execution_count": null,
   "metadata": {},
   "outputs": [],
   "source": [
    "#TODO -> merge cid_folder,cid_file,loan_id\n",
    "#TODO ->  I need to fund the cid of al 980 files in legal files and decisions \n",
    "# Imports\n",
    "import os \n",
    "import re\n",
    "import hashlib\n",
    "import pandas as pd\n",
    "import numpy as np\n",
    "from collections import defaultdict\n",
    "import openpyxl\n",
    "from openpyxl import load_workbook\n",
    "from openpyxl.styles import Font, Color, PatternFill\n",
    "# from pushbullet  import Pushbullet\n",
    "from PIL import Image\n",
    "# from PyPDF2 import PdfReader\n",
    "# from PyPDF2.errors import PdfReadError\n",
    "# API = \"o.vwm3iRGvehi6jP9PewTb6Wo8ymMYGaxf\"\n",
    "# pb = Pushbullet(API)\n",
    "import json\n",
    "import warnings\n",
    "warnings.filterwarnings('ignore', category=pd.errors.PerformanceWarning)\n",
    "from lists_dicts import *\n",
    "from paths import *\n",
    "from helper_cid_functions import *\n",
    "from helper_excel_functions import *\n",
    "from move_files import (move_files,create_cid_folders,cid_folders_to_final_path)\n",
    "from check_dupes import (count_tiff_pages,count_pdf_pages,get_file_hash,normalize_basename,files_are_identical,get_all_files,compare_files_in_directory,show_dupe_files)\n",
    "from get_unique_legal_dict import get_unique_legal_files\n",
    "from get_exp_legal_files import get_the_legal_files_exp_dict\n",
    "from get_exp_loan_files import get_exp_loan_files"
   ]
  },
  {
   "cell_type": "code",
   "execution_count": null,
   "metadata": {},
   "outputs": [],
   "source": [
    "# Get target directory paths\n",
    "#AUP\n",
    "target_directory = r\"\\\\lawoffice\\GSLODocuments\\LegalServices_Division\\01.Lawoffice_Common\\Project Suez 3C\\Files AuP\\73 Borrowers\"\n",
    "# Exposures\n",
    "mapping_99_folders = pd.read_excel(r\"C:\\Users\\pallist\\Desktop\\ΤΡΕΧΟΝΤΑ\\1) Projects\\Suez3\\cids laons aup_exposures.xlsx\",sheet_name='Exposures main folders',dtype='str')\n",
    "target_aup_dict = cid_folders_to_final_path(target_directory)\n",
    "target_exp_dict = dict(zip(mapping_99_folders.iloc[:, 0], mapping_99_folders.iloc[:, 1]))"
   ]
  },
  {
   "cell_type": "code",
   "execution_count": null,
   "metadata": {},
   "outputs": [],
   "source": [
    "# Dicts\n",
    "aup_max_file_count_per_cid_category = {}\n",
    "exp_max_file_count_per_cid_category = {}\n",
    "#Aup iteration\n",
    "aup_legal_files_dict_in_aup = {}\n",
    "aup_legal_files_dict_in_exp = {}\n",
    "#Exp iteration\n",
    "exp_legal_files_dict_in_exp = {}\n",
    "exp_legal_files_dict_in_aup = {}\n",
    "\n",
    "# Cid columns\n",
    "all_cid_columns= ['Main CID', 'CID1', 'CID2']\n"
   ]
  },
  {
   "cell_type": "code",
   "execution_count": null,
   "metadata": {},
   "outputs": [],
   "source": [
    "# # # Aup iteration\n",
    "# aup_iteration(all_aup_cid_columns,all_exp_cid_columns,aup_max_file_count_per_cid_category,exp_max_file_count_per_cid_category,aup_file_folders_list, aup_legal_files_dict_in_aup, aup_legal_files_dict_in_exp, aup_unique_cids,exp_unique_cids,aup_mapping_df) \n",
    "# df_elements = pd.DataFrame(elements_list)\n",
    "# # df_elements\n",
    "# launch_excel(df_elements, 'elements_list.xlsx')\n",
    "\n",
    "# # Aup iteration results (files per main cid df)\n",
    "# aup_legal_files_in_aup_df = get_max_files_found_for_each_cid_category(all_aup_cid_columns,aup_max_file_count_per_cid_category,aup_legal_files_dict_in_aup,aup_mapping_df)\n",
    "# aup_legal_files_in_exp_df = get_max_files_found_for_each_cid_category(all_exp_cid_columns,exp_max_file_count_per_cid_category,aup_legal_files_dict_in_exp,aup_mapping_df)\n",
    "\n",
    "# # Aup -> aup,exp unique dicts (unique files per main cid dict)\n",
    "# unique_legal_files_in_aup_for_aup, unique_legal_files_in_aup_for_exp =  get_unique_legal_files(aup_legal_files_in_aup_df,aup_legal_files_in_exp_df)\n",
    "# # Check files not existing in main fodler\n",
    "# move_files(unique_legal_files_in_aup_for_exp, target_exp_dict) \n",
    "# 4) Check for relevant missing files \n",
    "# move_files(unique_legal_files_in_aup_for_aup, target_aup_dict) "
   ]
  },
  {
   "cell_type": "code",
   "execution_count": null,
   "metadata": {},
   "outputs": [],
   "source": [
    "# # # Exposures iteration\n",
    "# #1) Get all of the files\n",
    "# exp_iteration(all_cid_columns,all_cid_columns,aup_max_file_count_per_cid_category,exp_max_file_count_per_cid_category,exp_file_folders_list, aup_legal_files_dict_in_aup, aup_legal_files_dict_in_exp, aup_unique_cids,exp_unique_cids,exp_mapping_df)\n",
    "# df_elements = pd.DataFrame(elements_list)\n",
    "# # launch_excel(df_elements, 'elements_list.xlsx')\n",
    "# #2) Get the main dicts\n",
    "# # exp_legal_files_in_exp_df = get_max_files_found_for_each_cid_category(all_aup_cid_columns,aup_max_file_count_per_cid_category,exp_legal_files_dict_in_exp,aup_mapping_df)\n",
    "# # exp_legal_files_in_aup_df = get_max_files_found_for_each_cid_category(all_exp_cid_columns,exp_max_file_count_per_cid_category,exp_legal_files_dict_in_aup,aup_mapping_df)\n",
    "# # Exp -> aup,exp unique dicts (unique files per main cid dict)\n",
    "# #3) Move missing files from exp to aup\n",
    "# # unique_legal_files_in_exp_for_exp, unique_legal_files_in_exp_for_aup =  get_unique_legal_files(exp_legal_files_in_exp_df,exp_legal_files_in_aup_df)\n",
    "# # # Check files not existing in main fodler\n",
    "# # move_files(unique_legal_files_in_exp_for_aup,target_aup_dict)\n",
    "# # 4) Check for relevant missing files\n",
    "# # move_files(unique_legal_files_in_exp_for_exp,target_exp_dict)\n"
   ]
  },
  {
   "cell_type": "code",
   "execution_count": null,
   "metadata": {},
   "outputs": [],
   "source": []
  },
  {
   "cell_type": "code",
   "execution_count": null,
   "metadata": {},
   "outputs": [],
   "source": []
  }
 ],
 "metadata": {
  "kernelspec": {
   "display_name": "Python 3",
   "language": "python",
   "name": "python3"
  },
  "language_info": {
   "codemirror_mode": {
    "name": "ipython",
    "version": 3
   },
   "file_extension": ".py",
   "mimetype": "text/x-python",
   "name": "python",
   "nbconvert_exporter": "python",
   "pygments_lexer": "ipython3",
   "version": "3.9.12"
  }
 },
 "nbformat": 4,
 "nbformat_minor": 2
}
